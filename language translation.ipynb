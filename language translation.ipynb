{
 "cells": [
  {
   "cell_type": "code",
   "execution_count": 1,
   "id": "85f36b48",
   "metadata": {},
   "outputs": [
    {
     "name": "stderr",
     "output_type": "stream",
     "text": [
      "C:\\Users\\singh\\desktop\\pythonn\\llm\\cuda\\Lib\\site-packages\\tqdm\\auto.py:21: TqdmWarning: IProgress not found. Please update jupyter and ipywidgets. See https://ipywidgets.readthedocs.io/en/stable/user_install.html\n",
      "  from .autonotebook import tqdm as notebook_tqdm\n",
      "C:\\Users\\singh\\desktop\\pythonn\\llm\\cuda\\Lib\\site-packages\\datasets\\load.py:1429: FutureWarning: The repository for kde4 contains custom code which must be executed to correctly load the dataset. You can inspect the repository content at https://hf.co/datasets/kde4\n",
      "You can avoid this message in future by passing the argument `trust_remote_code=True`.\n",
      "Passing `trust_remote_code=True` will be mandatory to load this dataset from the next major release of `datasets`.\n",
      "  warnings.warn(\n"
     ]
    },
    {
     "data": {
      "text/plain": [
       "DatasetDict({\n",
       "    train: Dataset({\n",
       "        features: ['id', 'translation'],\n",
       "        num_rows: 210173\n",
       "    })\n",
       "})"
      ]
     },
     "execution_count": 1,
     "metadata": {},
     "output_type": "execute_result"
    }
   ],
   "source": [
    "from datasets import load_dataset\n",
    "data=load_dataset(\"kde4\",lang1='en',lang2='fr')\n",
    "data"
   ]
  },
  {
   "cell_type": "code",
   "execution_count": 33,
   "id": "32b8173b",
   "metadata": {},
   "outputs": [],
   "source": [
    "small=data['train'].shuffle(seed=42).select(range(500))"
   ]
  },
  {
   "cell_type": "code",
   "execution_count": 34,
   "id": "1347fe9e",
   "metadata": {},
   "outputs": [],
   "source": [
    "split=small.train_test_split()"
   ]
  },
  {
   "cell_type": "code",
   "execution_count": 35,
   "id": "72e763ed",
   "metadata": {
    "scrolled": true
   },
   "outputs": [
    {
     "data": {
      "text/plain": [
       "DatasetDict({\n",
       "    train: Dataset({\n",
       "        features: ['id', 'translation'],\n",
       "        num_rows: 375\n",
       "    })\n",
       "    test: Dataset({\n",
       "        features: ['id', 'translation'],\n",
       "        num_rows: 125\n",
       "    })\n",
       "})"
      ]
     },
     "execution_count": 35,
     "metadata": {},
     "output_type": "execute_result"
    }
   ],
   "source": [
    "split"
   ]
  },
  {
   "cell_type": "code",
   "execution_count": 36,
   "id": "0916f6ae",
   "metadata": {},
   "outputs": [
    {
     "name": "stderr",
     "output_type": "stream",
     "text": [
      "C:\\Users\\singh\\desktop\\pythonn\\llm\\cuda\\Lib\\site-packages\\transformers\\models\\marian\\tokenization_marian.py:197: UserWarning: Recommended: pip install sacremoses.\n",
      "  warnings.warn(\"Recommended: pip install sacremoses.\")\n"
     ]
    }
   ],
   "source": [
    "from transformers import AutoTokenizer, AutoModelForSeq2SeqLM\n",
    "\n",
    "tokenizer = AutoTokenizer.from_pretrained(\"Helsinki-NLP/opus-mt-en-fr\")"
   ]
  },
  {
   "cell_type": "code",
   "execution_count": 37,
   "id": "ffc7795d",
   "metadata": {},
   "outputs": [],
   "source": [
    "checkpoint=\"Helsinki-NLP/opus-mt-en-fr\""
   ]
  },
  {
   "cell_type": "code",
   "execution_count": 38,
   "id": "f1330ca6",
   "metadata": {},
   "outputs": [],
   "source": [
    "en=split[\"train\"][5][\"translation\"][\"en\"]\n",
    "fr=split[\"train\"][5][\"translation\"][\"fr\"]"
   ]
  },
  {
   "cell_type": "code",
   "execution_count": 39,
   "id": "1ecd8093",
   "metadata": {},
   "outputs": [
    {
     "data": {
      "text/plain": [
       "{'input_ids': [188, 3413, 4186, 6926, 401, 41738, 2263, 3282, 50, 23155, 2069, 1323, 50, 29964, 23177, 50, 23155, 50, 31987, 28, 2494, 9, 18119, 602, 3419, 3605, 0], 'attention_mask': [1, 1, 1, 1, 1, 1, 1, 1, 1, 1, 1, 1, 1, 1, 1, 1, 1, 1, 1, 1, 1, 1, 1, 1, 1, 1, 1]}"
      ]
     },
     "execution_count": 39,
     "metadata": {},
     "output_type": "execute_result"
    }
   ],
   "source": [
    "inputs=tokenizer(en)\n",
    "inputs"
   ]
  },
  {
   "cell_type": "code",
   "execution_count": 40,
   "id": "66f80fdc",
   "metadata": {},
   "outputs": [
    {
     "name": "stderr",
     "output_type": "stream",
     "text": [
      "C:\\Users\\singh\\desktop\\pythonn\\llm\\cuda\\Lib\\site-packages\\transformers\\tokenization_utils_base.py:3860: UserWarning: `as_target_tokenizer` is deprecated and will be removed in v5 of Transformers. You can tokenize your labels by using the argument `text_target` of the regular `__call__` method (either in the same call as your input texts if you use the same keyword arguments, or in a separate call.\n",
      "  warnings.warn(\n"
     ]
    },
    {
     "data": {
      "text/plain": [
       "{'input_ids': [188, 3413, 4186, 6926, 401, 41352, 2263, 3282, 50, 20795, 2069, 1323, 50, 28063, 23177, 50, 20795, 50, 29156, 28, 9390, 13382, 2891, 402, 29033, 268, 3605, 0], 'attention_mask': [1, 1, 1, 1, 1, 1, 1, 1, 1, 1, 1, 1, 1, 1, 1, 1, 1, 1, 1, 1, 1, 1, 1, 1, 1, 1, 1, 1]}"
      ]
     },
     "execution_count": 40,
     "metadata": {},
     "output_type": "execute_result"
    }
   ],
   "source": [
    "with tokenizer.as_target_tokenizer():\n",
    "    targets=tokenizer(fr)\n",
    "targets"
   ]
  },
  {
   "cell_type": "code",
   "execution_count": 41,
   "id": "d539be9d",
   "metadata": {},
   "outputs": [
    {
     "data": {
      "text/plain": [
       "['▁B',\n",
       " 'ET',\n",
       " 'AD',\n",
       " 'IST',\n",
       " '(',\n",
       " '0,2',\n",
       " '8',\n",
       " '59',\n",
       " ';',\n",
       " '▁0,2',\n",
       " '60',\n",
       " '6',\n",
       " ';',\n",
       " '▁0,8',\n",
       " '105',\n",
       " ';',\n",
       " '▁0,2',\n",
       " ';',\n",
       " '▁0,9',\n",
       " ')',\n",
       " '▁vaut',\n",
       " '▁0,5',\n",
       " '37',\n",
       " '▁&',\n",
       " '▁#160;',\n",
       " '▁8',\n",
       " '56',\n",
       " '</s>']"
      ]
     },
     "execution_count": 41,
     "metadata": {},
     "output_type": "execute_result"
    }
   ],
   "source": [
    "tokenizer.convert_ids_to_tokens(targets['input_ids'])"
   ]
  },
  {
   "cell_type": "code",
   "execution_count": 42,
   "id": "517f901b",
   "metadata": {},
   "outputs": [
    {
     "data": {
      "text/plain": [
       "(array([251.,  56.,  20.,   9.,   5.,   6.,  10.,   1.,   2.,   1.,   1.,\n",
       "          2.,   3.,   1.,   0.,   0.,   2.,   1.,   0.,   0.,   0.,   1.,\n",
       "          0.,   1.,   1.,   0.,   0.,   0.,   0.,   0.,   0.,   0.,   0.,\n",
       "          0.,   0.,   0.,   0.,   0.,   0.,   0.,   0.,   0.,   0.,   0.,\n",
       "          0.,   0.,   0.,   0.,   0.,   1.]),\n",
       " array([   2. ,   27.7,   53.4,   79.1,  104.8,  130.5,  156.2,  181.9,\n",
       "         207.6,  233.3,  259. ,  284.7,  310.4,  336.1,  361.8,  387.5,\n",
       "         413.2,  438.9,  464.6,  490.3,  516. ,  541.7,  567.4,  593.1,\n",
       "         618.8,  644.5,  670.2,  695.9,  721.6,  747.3,  773. ,  798.7,\n",
       "         824.4,  850.1,  875.8,  901.5,  927.2,  952.9,  978.6, 1004.3,\n",
       "        1030. , 1055.7, 1081.4, 1107.1, 1132.8, 1158.5, 1184.2, 1209.9,\n",
       "        1235.6, 1261.3, 1287. ]),\n",
       " <BarContainer object of 50 artists>)"
      ]
     },
     "execution_count": 42,
     "metadata": {},
     "output_type": "execute_result"
    },
    {
     "data": {
      "image/png": "[encoded data removed]",
      "text/plain": [
       "<Figure size 640x480 with 1 Axes>"
      ]
     },
     "metadata": {},
     "output_type": "display_data"
    }
   ],
   "source": [
    "import matplotlib.pyplot as plt\n",
    "train=split[\"train\"][\"translation\"]\n",
    "input_lens=[len(tr['en']) for tr in train]\n",
    "plt.hist(input_lens,bins=50)"
   ]
  },
  {
   "cell_type": "code",
   "execution_count": 43,
   "id": "bf8aa48d",
   "metadata": {},
   "outputs": [
    {
     "data": {
      "text/plain": [
       "(array([227.,  77.,  24.,   9.,   7.,   7.,   6.,   1.,   2.,   2.,   1.,\n",
       "          2.,   1.,   1.,   0.,   4.,   0.,   0.,   0.,   2.,   0.,   1.,\n",
       "          0.,   0.,   0.,   0.,   0.,   0.,   0.,   0.,   0.,   0.,   0.,\n",
       "          0.,   0.,   0.,   0.,   0.,   0.,   0.,   0.,   0.,   0.,   0.,\n",
       "          0.,   0.,   0.,   0.,   0.,   1.]),\n",
       " array([   2. ,   35.7,   69.4,  103.1,  136.8,  170.5,  204.2,  237.9,\n",
       "         271.6,  305.3,  339. ,  372.7,  406.4,  440.1,  473.8,  507.5,\n",
       "         541.2,  574.9,  608.6,  642.3,  676. ,  709.7,  743.4,  777.1,\n",
       "         810.8,  844.5,  878.2,  911.9,  945.6,  979.3, 1013. , 1046.7,\n",
       "        1080.4, 1114.1, 1147.8, 1181.5, 1215.2, 1248.9, 1282.6, 1316.3,\n",
       "        1350. , 1383.7, 1417.4, 1451.1, 1484.8, 1518.5, 1552.2, 1585.9,\n",
       "        1619.6, 1653.3, 1687. ]),\n",
       " <BarContainer object of 50 artists>)"
      ]
     },
     "execution_count": 43,
     "metadata": {},
     "output_type": "execute_result"
    },
    {
     "data": {
      "image/png": "[encoded data removed]",
      "text/plain": [
       "<Figure size 640x480 with 1 Axes>"
      ]
     },
     "metadata": {},
     "output_type": "display_data"
    }
   ],
   "source": [
    "target_lens=[len(tr['fr']) for tr in train]\n",
    "plt.hist(target_lens,bins=50)"
   ]
  },
  {
   "cell_type": "code",
   "execution_count": 44,
   "id": "bfd45cd4",
   "metadata": {},
   "outputs": [],
   "source": [
    "max_input_len=130\n",
    "max_target_len=130\n",
    "def tokenizer_fn(batch):\n",
    "    inputs=[x['en'] for x in batch['translation']]\n",
    "    targets=[x['fr'] for x in batch['translation']]\n",
    "    tokenized_inputs=tokenizer(inputs,max_length=max_input_len,truncation=True)\n",
    "    with tokenizer.as_target_tokenizer():\n",
    "        tokenized_targets=tokenizer(targets,max_length=max_target_len,truncation=True)\n",
    "    tokenized_inputs['labels']=tokenized_targets['input_ids']\n",
    "    return tokenized_inputs"
   ]
  },
  {
   "cell_type": "code",
   "execution_count": null,
   "id": "c4557b29",
   "metadata": {},
   "outputs": [],
   "source": []
  },
  {
   "cell_type": "code",
   "execution_count": 45,
   "id": "cbc76ad9",
   "metadata": {},
   "outputs": [
    {
     "name": "stderr",
     "output_type": "stream",
     "text": [
      "Map: 100%|██████████████████████████████████████████████████████████████████| 375/375 [00:00<00:00, 5467.20 examples/s]\n",
      "Map: 100%|██████████████████████████████████████████████████████████████████| 125/125 [00:00<00:00, 2353.21 examples/s]\n"
     ]
    }
   ],
   "source": [
    "tokenized_data=split.map(\n",
    "tokenizer_fn,\n",
    "batched=True,\n",
    "    remove_columns=split['train'].column_names\n",
    ")"
   ]
  },
  {
   "cell_type": "code",
   "execution_count": 46,
   "id": "66117544",
   "metadata": {},
   "outputs": [
    {
     "data": {
      "text/plain": [
       "Dataset({\n",
       "    features: ['input_ids', 'attention_mask', 'labels'],\n",
       "    num_rows: 375\n",
       "})"
      ]
     },
     "execution_count": 46,
     "metadata": {},
     "output_type": "execute_result"
    }
   ],
   "source": [
    "tokenized_data['train']"
   ]
  },
  {
   "cell_type": "code",
   "execution_count": 47,
   "id": "996b9c2d",
   "metadata": {},
   "outputs": [],
   "source": [
    "model=AutoModelForSeq2SeqLM.from_pretrained(checkpoint)"
   ]
  },
  {
   "cell_type": "code",
   "execution_count": 48,
   "id": "bd33f273",
   "metadata": {},
   "outputs": [],
   "source": [
    "from transformers import DataCollatorForSeq2Seq"
   ]
  },
  {
   "cell_type": "code",
   "execution_count": 49,
   "id": "a621e19a",
   "metadata": {},
   "outputs": [
    {
     "name": "stdout",
     "output_type": "stream",
     "text": [
      "Requirement already satisfied: sacrebleu in c:\\users\\singh\\desktop\\pythonn\\llm\\cuda\\lib\\site-packages (2.4.0)\n",
      "Requirement already satisfied: bert-score in c:\\users\\singh\\desktop\\pythonn\\llm\\cuda\\lib\\site-packages (0.3.13)\n",
      "Requirement already satisfied: portalocker in c:\\users\\singh\\desktop\\pythonn\\llm\\cuda\\lib\\site-packages (from sacrebleu) (2.8.2)\n",
      "Requirement already satisfied: regex in c:\\users\\singh\\desktop\\pythonn\\llm\\cuda\\lib\\site-packages (from sacrebleu) (2023.12.25)\n",
      "Requirement already satisfied: tabulate>=0.8.9 in c:\\users\\singh\\desktop\\pythonn\\llm\\cuda\\lib\\site-packages (from sacrebleu) (0.9.0)\n",
      "Requirement already satisfied: numpy>=1.17 in c:\\users\\singh\\desktop\\pythonn\\llm\\cuda\\lib\\site-packages (from sacrebleu) (1.26.2)\n",
      "Requirement already satisfied: colorama in c:\\users\\singh\\desktop\\pythonn\\llm\\cuda\\lib\\site-packages (from sacrebleu) (0.4.6)\n",
      "Requirement already satisfied: lxml in c:\\users\\singh\\desktop\\pythonn\\llm\\cuda\\lib\\site-packages (from sacrebleu) (5.1.0)\n",
      "Requirement already satisfied: torch>=1.0.0 in c:\\users\\singh\\desktop\\pythonn\\llm\\cuda\\lib\\site-packages (from bert-score) (2.1.0+cu118)\n",
      "Requirement already satisfied: pandas>=1.0.1 in c:\\users\\singh\\desktop\\pythonn\\llm\\cuda\\lib\\site-packages (from bert-score) (2.1.4)\n",
      "Requirement already satisfied: transformers>=3.0.0 in c:\\users\\singh\\desktop\\pythonn\\llm\\cuda\\lib\\site-packages (from bert-score) (4.36.2)\n",
      "Requirement already satisfied: requests in c:\\users\\singh\\desktop\\pythonn\\llm\\cuda\\lib\\site-packages (from bert-score) (2.28.1)\n",
      "Requirement already satisfied: tqdm>=4.31.1 in c:\\users\\singh\\desktop\\pythonn\\llm\\cuda\\lib\\site-packages (from bert-score) (4.66.1)\n",
      "Requirement already satisfied: matplotlib in c:\\users\\singh\\desktop\\pythonn\\llm\\cuda\\lib\\site-packages (from bert-score) (3.8.2)\n",
      "Requirement already satisfied: packaging>=20.9 in c:\\users\\singh\\desktop\\pythonn\\llm\\cuda\\lib\\site-packages (from bert-score) (23.2)\n",
      "Requirement already satisfied: python-dateutil>=2.8.2 in c:\\users\\singh\\desktop\\pythonn\\llm\\cuda\\lib\\site-packages (from pandas>=1.0.1->bert-score) (2.8.2)\n",
      "Requirement already satisfied: pytz>=2020.1 in c:\\users\\singh\\desktop\\pythonn\\llm\\cuda\\lib\\site-packages (from pandas>=1.0.1->bert-score) (2023.3.post1)\n",
      "Requirement already satisfied: tzdata>=2022.1 in c:\\users\\singh\\desktop\\pythonn\\llm\\cuda\\lib\\site-packages (from pandas>=1.0.1->bert-score) (2023.3)\n",
      "Requirement already satisfied: filelock in c:\\users\\singh\\desktop\\pythonn\\llm\\cuda\\lib\\site-packages (from torch>=1.0.0->bert-score) (3.9.0)\n",
      "Requirement already satisfied: typing-extensions in c:\\users\\singh\\desktop\\pythonn\\llm\\cuda\\lib\\site-packages (from torch>=1.0.0->bert-score) (4.8.0)\n",
      "Requirement already satisfied: sympy in c:\\users\\singh\\desktop\\pythonn\\llm\\cuda\\lib\\site-packages (from torch>=1.0.0->bert-score) (1.12)\n",
      "Requirement already satisfied: networkx in c:\\users\\singh\\desktop\\pythonn\\llm\\cuda\\lib\\site-packages (from torch>=1.0.0->bert-score) (3.0)\n",
      "Requirement already satisfied: jinja2 in c:\\users\\singh\\desktop\\pythonn\\llm\\cuda\\lib\\site-packages (from torch>=1.0.0->bert-score) (3.1.2)\n",
      "Requirement already satisfied: fsspec in c:\\users\\singh\\desktop\\pythonn\\llm\\cuda\\lib\\site-packages (from torch>=1.0.0->bert-score) (2023.10.0)\n",
      "Requirement already satisfied: huggingface-hub<1.0,>=0.19.3 in c:\\users\\singh\\desktop\\pythonn\\llm\\cuda\\lib\\site-packages (from transformers>=3.0.0->bert-score) (0.20.1)\n",
      "Requirement already satisfied: pyyaml>=5.1 in c:\\users\\singh\\desktop\\pythonn\\llm\\cuda\\lib\\site-packages (from transformers>=3.0.0->bert-score) (6.0.1)\n",
      "Requirement already satisfied: tokenizers<0.19,>=0.14 in c:\\users\\singh\\desktop\\pythonn\\llm\\cuda\\lib\\site-packages (from transformers>=3.0.0->bert-score) (0.15.0)\n",
      "Requirement already satisfied: safetensors>=0.3.1 in c:\\users\\singh\\desktop\\pythonn\\llm\\cuda\\lib\\site-packages (from transformers>=3.0.0->bert-score) (0.4.1)\n",
      "Requirement already satisfied: contourpy>=1.0.1 in c:\\users\\singh\\desktop\\pythonn\\llm\\cuda\\lib\\site-packages (from matplotlib->bert-score) (1.2.0)\n",
      "Requirement already satisfied: cycler>=0.10 in c:\\users\\singh\\desktop\\pythonn\\llm\\cuda\\lib\\site-packages (from matplotlib->bert-score) (0.12.1)\n",
      "Requirement already satisfied: fonttools>=4.22.0 in c:\\users\\singh\\desktop\\pythonn\\llm\\cuda\\lib\\site-packages (from matplotlib->bert-score) (4.47.0)\n",
      "Requirement already satisfied: kiwisolver>=1.3.1 in c:\\users\\singh\\desktop\\pythonn\\llm\\cuda\\lib\\site-packages (from matplotlib->bert-score) (1.4.5)\n",
      "Requirement already satisfied: pillow>=8 in c:\\users\\singh\\desktop\\pythonn\\llm\\cuda\\lib\\site-packages (from matplotlib->bert-score) (10.1.0)\n",
      "Requirement already satisfied: pyparsing>=2.3.1 in c:\\users\\singh\\desktop\\pythonn\\llm\\cuda\\lib\\site-packages (from matplotlib->bert-score) (3.1.1)\n",
      "Requirement already satisfied: pywin32>=226 in c:\\users\\singh\\desktop\\pythonn\\llm\\cuda\\lib\\site-packages (from portalocker->sacrebleu) (306)\n",
      "Requirement already satisfied: charset-normalizer<3,>=2 in c:\\users\\singh\\desktop\\pythonn\\llm\\cuda\\lib\\site-packages (from requests->bert-score) (2.1.1)\n",
      "Requirement already satisfied: idna<4,>=2.5 in c:\\users\\singh\\desktop\\pythonn\\llm\\cuda\\lib\\site-packages (from requests->bert-score) (3.4)\n",
      "Requirement already satisfied: urllib3<1.27,>=1.21.1 in c:\\users\\singh\\desktop\\pythonn\\llm\\cuda\\lib\\site-packages (from requests->bert-score) (1.26.13)\n",
      "Requirement already satisfied: certifi>=2017.4.17 in c:\\users\\singh\\desktop\\pythonn\\llm\\cuda\\lib\\site-packages (from requests->bert-score) (2022.12.7)\n",
      "Requirement already satisfied: six>=1.5 in c:\\users\\singh\\desktop\\pythonn\\llm\\cuda\\lib\\site-packages (from python-dateutil>=2.8.2->pandas>=1.0.1->bert-score) (1.16.0)\n",
      "Requirement already satisfied: MarkupSafe>=2.0 in c:\\users\\singh\\desktop\\pythonn\\llm\\cuda\\lib\\site-packages (from jinja2->torch>=1.0.0->bert-score) (2.1.3)\n",
      "Requirement already satisfied: mpmath>=0.19 in c:\\users\\singh\\desktop\\pythonn\\llm\\cuda\\lib\\site-packages (from sympy->torch>=1.0.0->bert-score) (1.3.0)\n",
      "Note: you may need to restart the kernel to use updated packages.\n"
     ]
    },
    {
     "name": "stderr",
     "output_type": "stream",
     "text": [
      "\n",
      "[notice] A new release of pip is available: 23.2.1 -> 23.3.2\n",
      "[notice] To update, run: C:\\Users\\singh\\desktop\\pythonn\\llm\\cuda\\Scripts\\python.exe -m pip install --upgrade pip\n"
     ]
    }
   ],
   "source": [
    "pip install sacrebleu bert-score"
   ]
  },
  {
   "cell_type": "code",
   "execution_count": 50,
   "id": "36a238f9",
   "metadata": {},
   "outputs": [],
   "source": [
    "dc=DataCollatorForSeq2Seq(tokenizer,model)"
   ]
  },
  {
   "cell_type": "code",
   "execution_count": 51,
   "id": "cc39f5d8",
   "metadata": {},
   "outputs": [],
   "source": [
    "batch=dc([tokenized_data['train'][i] for i in range(1,3)])"
   ]
  },
  {
   "cell_type": "code",
   "execution_count": 52,
   "id": "ecf461a8",
   "metadata": {},
   "outputs": [
    {
     "data": {
      "text/plain": [
       "['<pad>',\n",
       " '▁S',\n",
       " 'olo',\n",
       " '▁7',\n",
       " '▁-',\n",
       " '▁qui',\n",
       " 'nt',\n",
       " 'es',\n",
       " '@',\n",
       " 'ite',\n",
       " 'm',\n",
       " ':',\n",
       " '▁in',\n",
       " 'list',\n",
       " 'box']"
      ]
     },
     "execution_count": 52,
     "metadata": {},
     "output_type": "execute_result"
    }
   ],
   "source": [
    "tokenizer.convert_ids_to_tokens(batch[\"decoder_input_ids\"][0])\n"
   ]
  },
  {
   "cell_type": "code",
   "execution_count": 53,
   "id": "6c8efa3a",
   "metadata": {},
   "outputs": [
    {
     "data": {
      "text/plain": [
       "['▁S',\n",
       " 'olo',\n",
       " '▁7',\n",
       " '▁-',\n",
       " '▁qui',\n",
       " 'nt',\n",
       " 'es',\n",
       " '@',\n",
       " 'ite',\n",
       " 'm',\n",
       " ':',\n",
       " '▁in',\n",
       " 'list',\n",
       " 'box',\n",
       " '</s>']"
      ]
     },
     "execution_count": 53,
     "metadata": {},
     "output_type": "execute_result"
    }
   ],
   "source": [
    "tokenizer.convert_ids_to_tokens(batch[\"labels\"][0])"
   ]
  },
  {
   "cell_type": "code",
   "execution_count": 54,
   "id": "593f2c77",
   "metadata": {},
   "outputs": [
    {
     "name": "stderr",
     "output_type": "stream",
     "text": [
      "C:\\Users\\singh\\desktop\\pythonn\\llm\\cuda\\Lib\\site-packages\\datasets\\load.py:752: FutureWarning: The repository for sacrebleu contains custom code which must be executed to correctly load the metric. You can inspect the repository content at https://raw.githubusercontent.com/huggingface/datasets/2.16.1/metrics/sacrebleu/sacrebleu.py\n",
      "You can avoid this message in future by passing the argument `trust_remote_code=True`.\n",
      "Passing `trust_remote_code=True` will be mandatory to load this metric from the next major release of `datasets`.\n",
      "  warnings.warn(\n",
      "C:\\Users\\singh\\desktop\\pythonn\\llm\\cuda\\Lib\\site-packages\\datasets\\load.py:752: FutureWarning: The repository for bertscore contains custom code which must be executed to correctly load the metric. You can inspect the repository content at https://raw.githubusercontent.com/huggingface/datasets/2.16.1/metrics/bertscore/bertscore.py\n",
      "You can avoid this message in future by passing the argument `trust_remote_code=True`.\n",
      "Passing `trust_remote_code=True` will be mandatory to load this metric from the next major release of `datasets`.\n",
      "  warnings.warn(\n"
     ]
    }
   ],
   "source": [
    "from datasets import load_metric\n",
    "bleu=load_metric(\"sacrebleu\")\n",
    "bert=load_metric(\"bertscore\")"
   ]
  },
  {
   "cell_type": "code",
   "execution_count": 81,
   "id": "77457f16",
   "metadata": {},
   "outputs": [],
   "source": [
    "import numpy as np\n",
    "def compute(preds_and_labels):\n",
    "    preds,labels=preds_and_labels\n",
    "    decoded_preds=tokenizer.batch_decode(preds,skip_special_token=True)\n",
    "    labels=np.where(labels!=-100,labels,tokenizer.pad_token_id)\n",
    "    decoded_labels=tokenizer.batch_decode(labels,skip_special_token_id)\n",
    "    decoded_preds=[pred.strip() for pred in decoded_preds]\n",
    "    decoded_labels=[[label.strip()] for label in decoded_labels]\n",
    "    bleu=bleu.compute(predictions=decoded_presds,references=decoded_labels)\n",
    "    bert=bert.compute(predictions=decoded_presds,references=decoded_labels)\n",
    "    \n",
    "    return{\"bleu\":bleu['score'],'bertscore':bert}"
   ]
  },
  {
   "cell_type": "code",
   "execution_count": 56,
   "id": "8e997a20",
   "metadata": {},
   "outputs": [],
   "source": [
    "from transformers import Seq2SeqTrainingArguments"
   ]
  },
  {
   "cell_type": "code",
   "execution_count": 61,
   "id": "a1c8e776",
   "metadata": {},
   "outputs": [],
   "source": [
    "\n",
    "training_args=Seq2SeqTrainingArguments(\n",
    "\"finetuned-model\",\n",
    "predict_with_generate=True, #it will generate one token at a time and that token will be fed as input for next time step\n",
    "  evaluation_strategy='no',\n",
    "save_strategy='epoch',\n",
    "    learning_rate=2e-5,\n",
    "    per_device_train_batch_size=15,\n",
    "       per_device_eval_batch_size=30,\n",
    "    weight_decay=0.01,\n",
    "    save_total_limit=3,\n",
    "    num_train_epochs=3,\n",
    "    fp16=True\n",
    ")"
   ]
  },
  {
   "cell_type": "code",
   "execution_count": 62,
   "id": "99ae5cad",
   "metadata": {},
   "outputs": [],
   "source": [
    "from transformers import Seq2SeqTrainer"
   ]
  },
  {
   "cell_type": "code",
   "execution_count": 69,
   "id": "c302cfb0",
   "metadata": {},
   "outputs": [],
   "source": [
    "trainer=Seq2SeqTrainer(\n",
    "model,\n",
    "training_args,\n",
    "train_dataset=tokenized_data['train'],\n",
    "eval_dataset=tokenized_data['test'],\n",
    "data_collator=dc,\n",
    "tokenizer=tokenizer,\n",
    "compute_metrics=compute)"
   ]
  },
  {
   "cell_type": "code",
   "execution_count": 79,
   "id": "f78c38dd",
   "metadata": {},
   "outputs": [
    {
     "data": {
      "text/html": [
       "\n",
       "    <div>\n",
       "      \n",
       "      <progress value='75' max='75' style='width:300px; height:20px; vertical-align: middle;'></progress>\n",
       "      [75/75 03:04, Epoch 3/3]\n",
       "    </div>\n",
       "    <table border=\"1\" class=\"dataframe\">\n",
       "  <thead>\n",
       " <tr style=\"text-align: left;\">\n",
       "      <th>Step</th>\n",
       "      <th>Training Loss</th>\n",
       "    </tr>\n",
       "  </thead>\n",
       "  <tbody>\n",
       "  </tbody>\n",
       "</table><p>"
      ],
      "text/plain": [
       "<IPython.core.display.HTML object>"
      ]
     },
     "metadata": {},
     "output_type": "display_data"
    },
    {
     "name": "stderr",
     "output_type": "stream",
     "text": [
      "Checkpoint destination directory finetuned-model\\checkpoint-25 already exists and is non-empty.Saving will proceed but saved results may be invalid.\n",
      "Checkpoint destination directory finetuned-model\\checkpoint-50 already exists and is non-empty.Saving will proceed but saved results may be invalid.\n",
      "Checkpoint destination directory finetuned-model\\checkpoint-75 already exists and is non-empty.Saving will proceed but saved results may be invalid.\n"
     ]
    },
    {
     "data": {
      "text/plain": [
       "TrainOutput(global_step=75, training_loss=0.904967549641927, metrics={'train_runtime': 185.9058, 'train_samples_per_second': 6.051, 'train_steps_per_second': 0.403, 'total_flos': 19393572372480.0, 'train_loss': 0.904967549641927, 'epoch': 3.0})"
      ]
     },
     "execution_count": 79,
     "metadata": {},
     "output_type": "execute_result"
    }
   ],
   "source": [
    "trainer.train()"
   ]
  },
  {
   "cell_type": "code",
   "execution_count": 82,
   "id": "13188dca",
   "metadata": {},
   "outputs": [],
   "source": [
    "trainer.evaluate(max_length=max_target_len)"
   ]
  },
  {
   "cell_type": "code",
   "execution_count": 75,
   "id": "fbb07692",
   "metadata": {},
   "outputs": [],
   "source": [
    "trainer.save_model(\"modell\")"
   ]
  },
  {
   "cell_type": "code",
   "execution_count": 83,
   "id": "4fdb3315",
   "metadata": {},
   "outputs": [
    {
     "name": "stderr",
     "output_type": "stream",
     "text": [
      "C:\\Users\\singh\\desktop\\pythonn\\llm\\cuda\\Lib\\site-packages\\transformers\\models\\marian\\tokenization_marian.py:197: UserWarning: Recommended: pip install sacremoses.\n",
      "  warnings.warn(\"Recommended: pip install sacremoses.\")\n"
     ]
    }
   ],
   "source": [
    "from transformers import pipeline\n",
    "translator=pipeline(\"translation\",model=\"modell\",device=0)"
   ]
  },
  {
   "cell_type": "code",
   "execution_count": 86,
   "id": "bb218334",
   "metadata": {},
   "outputs": [
    {
     "data": {
      "text/plain": [
       "[{'translation_text': \"Qu'est-ce que je vais cuisiner aujourd'hui ?\"}]"
      ]
     },
     "execution_count": 86,
     "metadata": {},
     "output_type": "execute_result"
    }
   ],
   "source": [
    "translator(\"What am i going to cook today?\")"
   ]
  }
 ],
 "metadata": {
  "kernelspec": {
   "display_name": "cuda",
   "language": "python",
   "name": "cuda"
  },
  "language_info": {
   "codemirror_mode": {
    "name": "ipython",
    "version": 3
   },
   "file_extension": ".py",
   "mimetype": "text/x-python",
   "name": "python",
   "nbconvert_exporter": "python",
   "pygments_lexer": "ipython3",
   "version": "3.11.5"
  }
 },
 "nbformat": 4,
 "nbformat_minor": 5
}
